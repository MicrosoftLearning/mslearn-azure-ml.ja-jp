{
  "cells": [
    {
      "cell_type": "markdown",
      "metadata": {
        "nteract": {
          "transient": {
            "deleting": false
          }
        }
      },
      "source": [
        "# 環境を操作する\n",
        "\n",
        "\n",
        "Azure Machine Learning ジョブとしてスクリプトを実行する場合は、ジョブ実行の実行コンテキストを定義する必要があります。 主要な構成の 1 つは、スクリプトを実行するコンピューティング先です。 これは、ローカル ワークステーション (この場合はコンピューティング インスタンス)、またはリモート コンピューティング ターゲット (オンデマンドでプロビジョニングされる Azure Machine Learning マネージド コンピューティング クラスターなど) です。\n",
        "\n",
        "このノートブックでは、コンピューティング クラスターを作成し、ジョブのコンピューティング ターゲットを確認します。\n",
        "\n",
        "## 開始する前に\n",
        "\n",
        "このノートブックでコードを実行するには、最新バージョンの **azureml-ai-ml** パッケージが必要です。 次のセルを実行して、パッケージがインストールされていることを確認します。\n",
        "\n",
        "> **注**:\n",
        "> **azure-ai-ml** パッケージがインストールされていない場合は、`pip install azure-ai-ml` を実行してインストールします。"
      ]
    },
    {
      "cell_type": "code",
      "execution_count": null,
      "metadata": {
        "gather": {
          "logged": 1665745893251
        },
        "vscode": {
          "languageId": "python"
        }
      },
      "outputs": [],
      "source": [
        "## ワークスペースに接続する\n",
        "\n",
        "必要な SDK パッケージがインストールされているため、ワークスペースに接続できます。\n",
        "\n",
        "ワークスペースに接続するには、識別子パラメーター (サブスクリプション ID、リソース グループ名、ワークスペース名) が必要です。 リソース グループ名とワークスペース名は既に入力されています。 コマンドを完了するには、サブスクリプション ID のみが必要です。\n",
        "\n",
        "必要なパラメーターを見つけるには、Studio の右上にあるサブスクリプションとワークスペース名をクリックします。 右側にペインが開きます。\n",
        "\n",
        "<p style=\"color:red;font-size:120%;background-color:yellow;font-weight:bold\"> サブスクリプション ID をコピーし、**YOUR-SUBSCRIPTION-ID** をコピーした値に置き換えます。 </p>"
      ]
    },
    {
      "attachments": {},
      "cell_type": "markdown",
      "metadata": {
        "nteract": {
          "transient": {
            "deleting": false
          }
        }
      },
      "source": [
        "## スクリプトをジョブとして実行する\n",
        "\n",
        "モデルをトレーニングするには、まず **src** フォルダーに **diabetes_training.py** スクリプトを作成します。 このスクリプトでは、トレーニング データと同じフォルダー内の **diabetes.csv** ファイルが使用されます。\n",
        "\n",
        "スクリプトの先頭にライブラリをインポートします。 これらのライブラリの関数は、データの処理とモデルのトレーニングに使用されます。 スクリプトの実行に使用するコンピューティングには、これらのライブラリがインストールされている必要があります。"
      ]
    },
    {
      "cell_type": "code",
      "execution_count": null,
      "metadata": {
        "gather": {
          "logged": 1665745927409
        },
        "jupyter": {
          "outputs_hidden": false,
          "source_hidden": false
        },
        "nteract": {
          "transient": {
            "deleting": false
          }
        },
        "vscode": {
          "languageId": "python"
        }
      },
      "outputs": [],
      "source": [
        "スクリプトを作成したら、スクリプトをジョブとして実行できます。 このスクリプトでは、一般的なライブラリが使用されます。 そのため、pandas、numpy、scikit-learn などを含むキュレーション済みの環境を使用できます。\n",
        "\n",
        "ジョブでは、キュレーション済みの環境の最新バージョン `AzureML-sklearn-0.24-ubuntu18.04-py37-cpu` が使用されます。"
      ]
    },
    {
      "cell_type": "code",
      "execution_count": null,
      "metadata": {
        "vscode": {
          "languageId": "python"
        }
      },
      "outputs": [],
      "source": [
        "ジョブの実行中でも、次のセルを実行できます。"
      ]
    },
    {
      "cell_type": "markdown",
      "metadata": {},
      "source": [
        "## 環境の一覧表示\n",
        "\n",
        "ワークスペース内の環境を確認しましょう。 \n",
        "\n",
        "前のジョブでは、キュレーション済みの環境の 1 つを使用しました。 ワークスペースに既に存在するすべての環境を確認するには、環境を一覧表示します。 "
      ]
    },
    {
      "cell_type": "code",
      "execution_count": null,
      "metadata": {
        "vscode": {
          "languageId": "python"
        }
      },
      "outputs": [],
      "source": [
        "すべての選別された環境には、**AzureML-** で始まる名前が付いています (このプレフィックスは、独自の環境では使用できません)。\n",
        "\n",
        "特定の環境を確認するには、その名前とバージョンで環境を取得します。 たとえば、前のジョブで使用したキュレーション済みの環境の*説明*と*タグ*を取得できます。"
      ]
    },
    {
      "cell_type": "markdown",
      "metadata": {},
      "source": [
        "## カスタム環境を作成して使用する\n",
        "\n",
        "キュレーション済みの環境に、スクリプトを実行するために必要なすべての Python パッケージが含まれない場合は、独自のカスタム環境を作成できます。 環境に必要なすべてのパッケージを一覧表示することで、スクリプトを簡単に再実行できます。 すべての依存関係は、使用するコンピューティングに関係なく、ジョブ構成で指定できる環境に格納されます。\n",
        "\n",
        "たとえば、Docker イメージから単純に環境を作成できます。 PyTorch などの特定のフレームワークには、必要なものがすべて既に含まれるパブリック Docker イメージがあります。 \n",
        "\n",
        "Docker イメージから環境を作成しましょう。"
      ]
    },
    {
      "cell_type": "code",
      "execution_count": null,
      "metadata": {
        "vscode": {
          "languageId": "python"
        }
      },
      "outputs": [],
      "source": [
        "これで、環境がワークスペースに登録され、スクリプトをジョブとして実行するときに参照できます。"
      ]
    },
    {
      "cell_type": "markdown",
      "metadata": {},
      "source": [
        "<p style=\"color:red;font-size:120%;background-color:yellow;font-weight:bold\"> ジョブはすぐに失敗します。 エラー メッセージを確認します。 </p>\n",
        "\n",
        "エラー メッセージは、pandas という名前のモジュールがないことを示します。 このエラーには、考えられる原因が 2 つあります。\n",
        "\n",
        "- スクリプトでは pandas が使用されますが、ライブラリがインポートされませんでした (`import pandas as pd`)。 \n",
        "- スクリプトでは、スクリプトの上部にあるライブラリがインポートされますが、コンピューティングにライブラリがインストールされていませんでした (`pip install pandas`)。\n",
        "\n",
        "`diabetes-training.py` スクリプトを確認した後、スクリプトが正しいことを確認できます。これは、ライブラリがインストールされていないことを意味します。 つまり、環境に必要なパッケージが含まれていませんでした。\n",
        "\n",
        "前のジョブで使用した基本 Docker イメージを使用して、新しい環境を作成してみましょう。 ここで、conda 仕様を追加して、必要なパッケージがインストールされるようにします。 まず、次のセルを実行して conda 仕様ファイルを作成します。"
      ]
    },
    {
      "cell_type": "markdown",
      "metadata": {},
      "source": [
        "スクリプトを正常に実行するために必要な依存関係がすべて conda 仕様ファイルに含まれています。\n",
        "\n",
        "基本 Docker イメージ**と** conda 仕様ファイルを使用して新しい環境を作成し、必要な依存関係を追加します。 Azure Machine Learning により、提供された Docker イメージを基盤にして conda 環境がビルドされます。 "
      ]
    },
    {
      "cell_type": "code",
      "execution_count": null,
      "metadata": {
        "vscode": {
          "languageId": "python"
        }
      },
      "outputs": [],
      "source": [
        "これで、新しい環境でジョブを送信してスクリプトを実行できるようになりました。"
      ]
    },
    {
      "cell_type": "markdown",
      "metadata": {},
      "source": [
        "新しいカスタム環境でジョブを送信すると、環境のビルドがトリガーされます。 新しく作成された環境を初めて使用するときは、環境のビルドに 10 分から 15 分かかる場合があります。これは、ジョブの完了にも時間がかかることを意味します。 \n",
        "\n",
        "ジョブを送信する前に、環境のビルドを手動でトリガーすることもできます。 環境は、初めて使用する場合にのみビルドする必要があります。 \n",
        "\n",
        "ジョブによって新しい環境のビルドがトリガーされると、ジョブの **[出力とログ]** タブでビルドのログを確認できます。 **azureml-logs/20_image_build_log.txt** を開いて、環境ビルドのログを調べます。 \n",
        "\n",
        "![ビルド ログのスクリーンショット](./images/screenshot-logs.png)"
      ]
    },
    {
      "cell_type": "code",
      "execution_count": null,
      "metadata": {
        "vscode": {
          "languageId": "python"
        }
      },
      "outputs": [],
      "source": [
        "env = ml_client.environments.get(\"AzureML-sklearn-0.24-ubuntu18.04-py37-cpu\", version=44)\n",
        "print(env. description, env.tags)"
      ]
    },
    {
      "cell_type": "markdown",
      "metadata": {},
      "source": [
        "## Create and use a custom environment\n",
        "\n",
        "If a curated environment doesn't include all the Python packages you need to run your script, you can create your own custom environment. By listing all necessary packages in an environment, you can easily re-run your scripts. All the dependencies are stored in the environment which you can then specify in the job configuration, independent of the compute you use.\n",
        "\n",
        "For example, you can create an environment simply from a Docker image. Certain frameworks like PyTorch will have a public Docker image that already includes everything you need. \n",
        "\n",
        "Let's create an environment from a Docker image:"
      ]
    },
    {
      "cell_type": "code",
      "execution_count": null,
      "metadata": {
        "vscode": {
          "languageId": "python"
        }
      },
      "outputs": [],
      "source": [
        "from azure.ai.ml.entities import Environment\n",
        "\n",
        "env_docker_image = Environment(\n",
        "    image=\"mcr.microsoft.com/azureml/openmpi3.1.2-ubuntu18.04\",\n",
        "    name=\"docker-image-example\",\n",
        "    description=\"Environment created from a Docker image.\",\n",
        ")\n",
        "ml_client.environments.create_or_update(env_docker_image)"
      ]
    },
    {
      "cell_type": "markdown",
      "metadata": {},
      "source": [
        "The environment is now registered in your workspace and you can reference it when you run a script as a job:"
      ]
    },
    {
      "cell_type": "code",
      "execution_count": null,
      "metadata": {
        "vscode": {
          "languageId": "python"
        }
      },
      "outputs": [],
      "source": [
        "from azure.ai.ml import command\n",
        "\n",
        "# configure job\n",
        "job = command(\n",
        "    code=\"./src\",\n",
        "    command=\"python diabetes-training.py\",\n",
        "    environment=\"docker-image-example:1\",\n",
        "    compute=\"aml-cluster\",\n",
        "    display_name=\"diabetes-train-custom-env\",\n",
        "    experiment_name=\"diabetes-training\"\n",
        ")\n",
        "\n",
        "# submit job\n",
        "returned_job = ml_client.create_or_update(job)\n",
        "aml_url = returned_job.studio_url\n",
        "print(\"Monitor your job at\", aml_url)"
      ]
    },
    {
      "attachments": {},
      "cell_type": "markdown",
      "metadata": {},
      "source": [
        "<p style=\"color:red;font-size:120%;background-color:yellow;font-weight:bold\"> The job will quickly fail! Review the error message. </p>\n",
        "\n",
        "The error message will tell you that there is no module named pandas. There are two possible causes for such an error:\n",
        "\n",
        "- The script uses pandas but didn't import the library (`import pandas as pd`). \n",
        "- The script does import the library at the top of the script but the compute didn't have the library installed (`pip install pandas`).\n",
        "\n",
        "After reviewing the `diabetes-training.py` script you can observe the script is correct, which means the library wasn't installed. In other words, the environment didn't include the necessary packages.\n",
        "\n",
        "Let's create a new environment, using the base Docker image used in the previous job. Now, you'll add a conda specification to ensure the necessary packages will be installed. First, run the following cell to create the conda specification file:"
      ]
    },
    {
      "cell_type": "code",
      "execution_count": null,
      "metadata": {
        "vscode": {
          "languageId": "python"
        }
      },
      "outputs": [],
      "source": [
        "%%writefile src/conda-env.yml\n",
        "name: basic-env-cpu\n",
        "channels:\n",
        "  - conda-forge\n",
        "dependencies:\n",
        "  - python=3.7\n",
        "  - scikit-learn\n",
        "  - pandas\n",
        "  - numpy\n",
        "  - matplotlib"
      ]
    },
    {
      "cell_type": "markdown",
      "metadata": {},
      "source": [
        "Note that all necessary dependencies are included in the conda specification file for the script to run successfully.\n",
        "\n",
        "Create a new environment using the base Docker image **and** the conda specification file to add the necessary dependencies. Azure Machine Learning will build the conda environment on top of the Docker image you provided. "
      ]
    },
    {
      "cell_type": "code",
      "execution_count": null,
      "metadata": {
        "vscode": {
          "languageId": "python"
        }
      },
      "outputs": [],
      "source": [
        "from azure.ai.ml.entities import Environment\n",
        "\n",
        "env_docker_conda = Environment(\n",
        "    image=\"mcr.microsoft.com/azureml/openmpi3.1.2-ubuntu18.04\",\n",
        "    conda_file=\"./src/conda-env.yml\",\n",
        "    name=\"docker-image-plus-conda-example\",\n",
        "    description=\"Environment created from a Docker image plus Conda environment.\",\n",
        ")\n",
        "ml_client.environments.create_or_update(env_docker_conda)"
      ]
    },
    {
      "cell_type": "markdown",
      "metadata": {},
      "source": [
        "Now, you can submit a job with the new environment to run the script:"
      ]
    },
    {
      "cell_type": "code",
      "execution_count": null,
      "metadata": {
        "vscode": {
          "languageId": "python"
        }
      },
      "outputs": [],
      "source": [
        "from azure.ai.ml import command\n",
        "\n",
        "# configure job\n",
        "job = command(\n",
        "    code=\"./src\",\n",
        "    command=\"python diabetes-training.py\",\n",
        "    environment=\"docker-image-plus-conda-example:1\",\n",
        "    compute=\"aml-cluster\",\n",
        "    display_name=\"diabetes-train-custom-env\",\n",
        "    experiment_name=\"diabetes-training\"\n",
        ")\n",
        "\n",
        "# submit job\n",
        "returned_job = ml_client.create_or_update(job)\n",
        "aml_url = returned_job.studio_url\n",
        "print(\"Monitor your job at\", aml_url)"
      ]
    },
    {
      "cell_type": "markdown",
      "metadata": {},
      "source": [
        "Submitting the job with the new custom environment triggers the build of the environment. The first time you use a newly created environment, it can take 10-15 minutes to build the environment, which also means your job will take longer to complete. \n",
        "\n",
        "You can also choose to manually trigger the build of the environment before you submit a job. The environment only needs to be built the first time you use it. \n",
        "\n",
        "When the job triggers the build of a new environment, you can review the logs of the build in the **Outputs + logs** tab of the job. Open **azureml-logs/20_image_build_log.txt** to inspect the logs of the environment build. \n",
        "\n",
        "![Screenshot build logs](./images/screenshot-logs.png)"
      ]
    }
  ],
  "metadata": {
    "kernel_info": {
      "name": "python38-azureml"
    },
    "kernelspec": {
      "display_name": "Python 3.8 - AzureML",
      "language": "python",
      "name": "python38-azureml"
    },
    "microsoft": {
      "host": {
        "AzureML": {
          "notebookHasBeenCompleted": true
        }
      }
    },
    "nteract": {
      "version": "nteract-front-end@1.0.0"
    },
    "vscode": {
      "interpreter": {
        "hash": "f2b2cd046deda8eabef1e765a11d0ec9aa9bd1d31d56ce79c815a38c323e14ec"
      }
    }
  },
  "nbformat": 4,
  "nbformat_minor": 2
}