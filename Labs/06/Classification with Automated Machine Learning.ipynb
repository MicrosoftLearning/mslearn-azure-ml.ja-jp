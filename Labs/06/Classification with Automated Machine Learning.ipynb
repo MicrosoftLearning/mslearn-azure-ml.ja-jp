{
  "cells": [
    {
      "cell_type": "markdown",
      "metadata": {},
      "source": [
        "# 自動機械学習を使用して分類モデルをトレーニングする\n",
        "\n",
        "モデルのトレーニングに使用できる機械学習アルゴリズムにはさまざまな種類があり、特定のデータや予測要件に最も効果的なアルゴリズムを特定するのは容易ではない場合があります。 さらに、正規化、欠落している機能の代入などの手法を使用して、トレーニング データを前処理することによってモデルの予測パフォーマンスに大きな影響を与えることができます。 要件に最適なモデルを見つけるには、多くのアルゴリズムと前処理変換の組み合わせを試す必要があります。これは多くの時間とコンピューティング リソースを必要とします。\n",
        "\n",
        "Azure Machine Learning により、さまざまなアルゴリズムと前処理オプションを使用して、トレーニング済みモデルの比較を自動化できます。 [Azure Machine Learning スタジオ](https://ml/azure.com)または Python SDK (v2) のビジュアル インターフェイスを使って、この機能を活用することができます。 Python SDK では、自動機械学習ジョブの設定をより細かくコントロールできますが、より使いやすいのはビジュアル インターフェイスです。\n",
        "\n",
        "## 開始する前に\n",
        "\n",
        "このノートブックでコードを実行するには、最新バージョンの **azureml-ai-ml** パッケージが必要です。 次のセルを実行して、パッケージがインストールされていることを確認します。\n",
        "\n",
        "> **注**:\n",
        "> **azure-ai-ml** パッケージがインストールされていない場合は、`pip install azure-ai-ml` を実行してインストールします。"
      ]
    },
    {
      "cell_type": "code",
      "execution_count": null,
      "metadata": {
        "vscode": {
          "languageId": "python"
        }
      },
      "outputs": [],
      "source": [
        "## ワークスペースに接続する\n",
        "\n",
        "必要な SDK パッケージがインストールされているため、ワークスペースに接続できます。\n",
        "\n",
        "ワークスペースに接続するには、識別子パラメーター (サブスクリプション ID、リソース グループ名、ワークスペース名) が必要です。 リソース グループ名とワークスペース名は、既に入力されています。 コマンドを完了するには、サブスクリプション ID のみが必要です。\n",
        "\n",
        "必要なパラメーターを見つけるには、スタジオの右上にあるサブスクリプションとワークスペース名をクリックします。 右側にペインが開きます。\n",
        "\n",
        "<p style=\"color:red;font-size:120%;background-color:yellow;font-weight:bold\"> サブスクリプション ID をコピーし、**YOUR-SUBSCRIPTION-ID** をコピーした値に置き換えます。 </p>"
      ]
    },
    {
      "attachments": {},
      "cell_type": "markdown",
      "metadata": {},
      "source": [
        "## データを準備する\n",
        "\n",
        "自動機械学習用トレーニング スクリプトを作成する必要はありませんが、トレーニング データを読み込む必要があります。 \n",
        "\n",
        "この場合は、糖尿病患者の詳細を含むデータセットを使用します。 \n",
        "\n",
        "データセットを自動機械学習ジョブへの入力として渡すには、データを表形式で指定し、ターゲット列を含める必要があります。 データが表形式データセットとして解釈されるためには、入力データセットが **MLTable** である必要があります。\n",
        "\n",
        "MLTable データ資産は、セットアップ中に既に作成されています。 **[データ]** ページに移動すると、データ資産を調べることができます。 ここでデータ資産を取得するには、その名前 `diabetes-training-table` とバージョン `1` を指定します。 "
      ]
    },
    {
      "cell_type": "code",
      "execution_count": null,
      "metadata": {
        "gather": {
          "logged": 1664965651163
        },
        "jupyter": {
          "outputs_hidden": false,
          "source_hidden": false
        },
        "nteract": {
          "transient": {
            "deleting": false
          }
        },
        "vscode": {
          "languageId": "python"
        }
      },
      "outputs": [],
      "source": [
        "## 自動機械学習ジョブを構成する\n",
        "\n",
        "これで、自動機械学習実験を構成する準備が整いました。\n",
        "\n",
        "次のコードを実行すると、次のような自動化された機械学習ジョブが作成されます。\n",
        "\n",
        "- `aml-cluster` という名前のコンピューティング クラスターを使用する\n",
        "- ターゲット列として `Diabetic` を設定する\n",
        "- プライマリ メトリックとして `accuracy` を設定する\n",
        "- 合計トレーニング時間が `60` 分後にタイムアウトする \n",
        "- 最大 `5` 個のモデルをトレーニングする\n",
        "- モデルは `LogisticRegression` アルゴリズムを使用してトレーニングされない"
      ]
    },
    {
      "cell_type": "code",
      "execution_count": null,
      "metadata": {
        "vscode": {
          "languageId": "python"
        }
      },
      "outputs": [],
      "source": [
        "## 自動化された機械学習ジョブを実行する\n",
        "\n",
        "準備完了です。 自動機械学習実験を実行しましょう。\n",
        "\n",
        "> **注**: これには時間がかかる場合があります。"
      ]
    },
    {
      "cell_type": "markdown",
      "metadata": {},
      "source": [
        "ジョブの実行中は、スタジオで監視できます。"
      ]
    },
    {
      "cell_type": "code",
      "execution_count": null,
      "metadata": {
        "gather": {
          "logged": 1664965655212
        },
        "jupyter": {
          "outputs_hidden": false,
          "source_hidden": false
        },
        "nteract": {
          "transient": {
            "deleting": false
          }
        },
        "vscode": {
          "languageId": "python"
        }
      },
      "outputs": [],
      "source": [
        "from azure.ai.ml.constants import AssetTypes\n",
        "from azure.ai.ml import Input\n",
        "\n",
        "# creates a dataset based on the files in the local data folder\n",
        "my_training_data_input = Input(type=AssetTypes.MLTABLE, path=\"azureml:diabetes-training:1\")"
      ]
    },
    {
      "cell_type": "markdown",
      "metadata": {},
      "source": [
        "## Configure automated machine learning job\n",
        "\n",
        "Now, you're ready to configure the automated machine learning experiment.\n",
        "\n",
        "When you run the code below, it will create an automated machine learning job that:\n",
        "\n",
        "- Uses the compute cluster named `aml-cluster`\n",
        "- Sets `Diabetic` as the target column\n",
        "- Sets `accuracy` as the primary metric\n",
        "- Times out after `60` minutes of total training time \n",
        "- Trains a maximum of `5` models\n",
        "- No model will be trained with the `LogisticRegression` algorithm"
      ]
    },
    {
      "cell_type": "code",
      "execution_count": null,
      "metadata": {
        "gather": {
          "logged": 1664965734226
        },
        "jupyter": {
          "outputs_hidden": false,
          "source_hidden": false
        },
        "nteract": {
          "transient": {
            "deleting": false
          }
        },
        "vscode": {
          "languageId": "python"
        }
      },
      "outputs": [],
      "source": [
        "from azure.ai.ml import automl\n",
        "\n",
        "# configure the classification job\n",
        "classification_job = automl.classification(\n",
        "    compute=\"aml-cluster\",\n",
        "    experiment_name=\"auto-ml-class-dev\",\n",
        "    training_data=my_training_data_input,\n",
        "    target_column_name=\"Diabetic\",\n",
        "    primary_metric=\"accuracy\",\n",
        "    n_cross_validations=5,\n",
        "    enable_model_explainability=True\n",
        ")\n",
        "\n",
        "# set the limits (optional)\n",
        "classification_job.set_limits(\n",
        "    timeout_minutes=60, \n",
        "    trial_timeout_minutes=20, \n",
        "    max_trials=5,\n",
        "    enable_early_termination=True,\n",
        ")\n",
        "\n",
        "# set the training properties (optional)\n",
        "classification_job.set_training(\n",
        "    blocked_training_algorithms=[\"LogisticRegression\"], \n",
        "    enable_onnx_compatible_models=True\n",
        ")"
      ]
    },
    {
      "cell_type": "markdown",
      "metadata": {},
      "source": [
        "## Run an automated machine learning job\n",
        "\n",
        "OK, you're ready to go. Let's run the automated machine learning experiment.\n",
        "\n",
        "> **Note**: This may take some time!"
      ]
    },
    {
      "cell_type": "code",
      "execution_count": null,
      "metadata": {
        "gather": {
          "logged": 1664965739262
        },
        "jupyter": {
          "outputs_hidden": false,
          "source_hidden": false
        },
        "nteract": {
          "transient": {
            "deleting": false
          }
        },
        "vscode": {
          "languageId": "python"
        }
      },
      "outputs": [],
      "source": [
        "# Submit the AutoML job\n",
        "returned_job = ml_client.jobs.create_or_update(\n",
        "    classification_job\n",
        ")  \n",
        "\n",
        "# submit the job to the backend\n",
        "aml_url = returned_job.studio_url\n",
        "print(\"Monitor your job at\", aml_url)"
      ]
    },
    {
      "cell_type": "markdown",
      "metadata": {},
      "source": [
        "While the job is running, you can monitor it in the Studio."
      ]
    }
  ],
  "metadata": {
    "kernel_info": {
      "name": "python38-azureml"
    },
    "kernelspec": {
      "display_name": "Python 3.8 - AzureML",
      "language": "python",
      "name": "python38-azureml"
    },
    "microsoft": {
      "host": {
        "AzureML": {
          "notebookHasBeenCompleted": true
        }
      }
    },
    "nteract": {
      "version": "nteract-front-end@1.0.0"
    },
    "vscode": {
      "interpreter": {
        "hash": "f2b2cd046deda8eabef1e765a11d0ec9aa9bd1d31d56ce79c815a38c323e14ec"
      }
    }
  },
  "nbformat": 4,
  "nbformat_minor": 2
}