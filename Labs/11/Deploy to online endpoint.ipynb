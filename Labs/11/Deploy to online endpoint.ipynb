{
  "cells": [
    {
      "cell_type": "markdown",
      "metadata": {},
      "source": [
        "# オンライン エンドポイントのデプロイ\n",
        "\n",
        "アプリケーションからモデルを使用するには、モデルをオンライン エンドポイントにデプロイします。 ローカル ファイルから MLflow モデルを作成し、エンドポイントをテストします。\n",
        "\n",
        "## 開始する前に\n",
        "\n",
        "このノートブックでコードを実行するには、最新バージョンの **azureml-ai-ml** パッケージが必要です。 次のセルを実行して、パッケージがインストールされていることを確認します。\n",
        "\n",
        "> **注**:\n",
        "> **azure-ai-ml** パッケージがインストールされていない場合は、`pip install azure-ai-ml` を実行してインストールします。"
      ]
    },
    {
      "cell_type": "code",
      "execution_count": null,
      "metadata": {
        "gather": {
          "logged": 1667393334445
        },
        "vscode": {
          "languageId": "python"
        }
      },
      "outputs": [],
      "source": [
        "## ワークスペースに接続する\n",
        "\n",
        "必要な SDK パッケージがインストールされているため、ワークスペースに接続できます。\n",
        "\n",
        "ワークスペースに接続するには、識別子パラメーター (サブスクリプション ID、リソース グループ名、ワークスペース名) が必要です。 リソース グループ名とワークスペース名は既に入力されています。 コマンドを完了するには、サブスクリプション ID のみが必要です。\n",
        "\n",
        "必要なパラメーターを見つけるには、Studio の右上にあるサブスクリプションとワークスペース名をクリックします。 右側にペインが開きます。\n",
        "\n",
        "<p style=\"color:red;font-size:120%;background-color:yellow;font-weight:bold\"> サブスクリプション ID をコピーし、**YOUR-SUBSCRIPTION-ID** をコピーした値に置き換えます。 </p>"
      ]
    },
    {
      "attachments": {},
      "cell_type": "markdown",
      "metadata": {},
      "source": [
        "## エンドポイントを定義して作成する\n",
        "\n",
        "最終的には、エンドポイントにモデルをデプロイすることが目標です。 そのため、最初にエンドポイントを作成する必要があります。 エンドポイントは、アプリケーションがモデルから予測を受信するために呼び出すことができる HTTPS エンドポイントになります。 アプリケーションは、その URI を使用し、キーまたはトークンを使用して認証して、エンドポイントを使用できます。\n",
        "\n",
        "次のセルを実行して、エンドポイントを定義します。 エンドポイントの名前は一意である必要があることにご注意ください。 `datetime` 関数を使用して一意の名前を生成します。"
      ]
    },
    {
      "cell_type": "code",
      "execution_count": null,
      "metadata": {
        "gather": {
          "logged": 1667395050398
        },
        "vscode": {
          "languageId": "python"
        }
      },
      "outputs": [],
      "source": [
        "次に、次のセルを実行してエンドポイントを作成します。 この処理には数分かかることがあります。 エンドポイントが作成されている間に、「[Azure Machine Learning エンドポイントとは](https://learn.microsoft.com/azure/machine-learning/concept-endpoints)」を確認することができます。"
      ]
    },
    {
      "cell_type": "code",
      "execution_count": null,
      "metadata": {
        "vscode": {
          "languageId": "python"
        }
      },
      "outputs": [],
      "source": [
        "<p style=\"color:red;font-size:120%;background-color:yellow;font-weight:bold\"> 重要:  エンドポイントが正常に作成されるまで待ってから続行してください。 スタジオに緑色の通知が表示されます。 </p>\n",
        "\n",
        "## 展開を構成する\n",
        "\n",
        "複数のモデルをエンドポイントにデプロイできます。 これは、現在のモデルを運用環境に維持しながら、デプロイされたモデルを更新する場合に最も便利です。 エンドポイントにデプロイする必要があるモデルを指定するように、デプロイを構成する必要があります。 次のセルでは、トレーニングされ、ローカル `model` フォルダーに格納されているモデルを参照します (このノートブックと同じフォルダーに保存されます)。 MLflow モデルを使用しているため、環境またはスコアリング スクリプトを指定する必要はありません。\n",
        "\n",
        "また、モデルをデプロイするために必要なインフラストラクチャも指定します。"
      ]
    },
    {
      "cell_type": "markdown",
      "metadata": {
        "nteract": {
          "transient": {
            "deleting": false
          }
        }
      },
      "source": [
        "## 配置を作成する\n",
        "\n",
        "最後に、次のセルを実行して、実際にモデルをエンドポイントにデプロイできます。"
      ]
    },
    {
      "cell_type": "code",
      "execution_count": null,
      "metadata": {
        "gather": {
          "logged": 1667395025715
        },
        "jupyter": {
          "outputs_hidden": false,
          "source_hidden": false
        },
        "nteract": {
          "transient": {
            "deleting": false
          }
        },
        "vscode": {
          "languageId": "python"
        }
      },
      "outputs": [],
      "source": [
        "モデルのデプロイには 10 から 15 分かかる場合があります。 モデルがデプロイされるのを待っている間に、マネージド エンドポイントの詳細について、[こちらのビデオ](https://www.youtube.com/watch?v=SxFGw_OBxNM&ab_channel=MicrosoftDeveloper)をご覧ください。\n",
        "\n",
        "<p style=\"color:red;font-size:120%;background-color:yellow;font-weight:bold\"> 重要:  デプロイが完了するまで待ってから続行してください。 スタジオに緑色の通知が表示されます。</p>\n",
        "\n",
        "エンドポイントに 1 つのモデルしかデプロイしていないため、このデプロイでトラフィックの 100% を取得する必要があります。 エンドポイントに複数のモデルをデプロイする場合は、同じアプローチを使用して、デプロイされたモデル間でトラフィックを分散できます。"
      ]
    },
    {
      "cell_type": "markdown",
      "metadata": {
        "nteract": {
          "transient": {
            "deleting": false
          }
        }
      },
      "source": [
        "<p style=\"color:red;font-size:120%;background-color:yellow;font-weight:bold\"> 重要:  ブルー デプロイが構成されるまで待ってから続行してください。 スタジオに緑色の通知が表示されます。 </p> \n",
        "\n",
        "## 展開をテスト\n",
        "\n",
        "エンドポイントを呼び出して、デプロイされたモデルをテストしてみましょう。 サンプル データを含む JSON ファイルが入力として使用されます。 トレーニング済みモデルでは、年齢、BMI、妊娠回数などの医療データに基づいて、患者が糖尿病かどうかを予測します。 `[0]` は、患者が糖尿病ではないことを示します。 `[1]` は、患者が糖尿病であることを意味します。"
      ]
    },
    {
      "cell_type": "code",
      "execution_count": null,
      "metadata": {
        "gather": {
          "logged": 1667395786392
        },
        "jupyter": {
          "outputs_hidden": false,
          "source_hidden": false
        },
        "nteract": {
          "transient": {
            "deleting": false
          }
        },
        "vscode": {
          "languageId": "python"
        }
      },
      "outputs": [],
      "source": [
        "必要に応じて、`sample-data.json` ファイル内の値を変更して、別の予測を取得することもできます。"
      ]
    },
    {
      "attachments": {},
      "cell_type": "markdown",
      "metadata": {
        "nteract": {
          "transient": {
            "deleting": false
          }
        }
      },
      "source": [
        "## エンドポイントを一覧表示する\n",
        "\n",
        "スタジオですべてのエンドポイントを表示できますが、SDK を使用してすべてのエンドポイントを一覧表示することもできます。"
      ]
    },
    {
      "cell_type": "code",
      "execution_count": null,
      "metadata": {
        "gather": {
          "logged": 1667395410378
        },
        "jupyter": {
          "outputs_hidden": false,
          "source_hidden": false
        },
        "nteract": {
          "transient": {
            "deleting": false
          }
        },
        "vscode": {
          "languageId": "python"
        }
      },
      "outputs": [],
      "source": [
        "## エンドポイントの詳細を取得する\n",
        "\n",
        "特定のエンドポイントに関する詳細情報が必要な場合は、SDK を使用して詳細を調べることもできます。"
      ]
    },
    {
      "cell_type": "markdown",
      "metadata": {
        "nteract": {
          "transient": {
            "deleting": false
          }
        }
      },
      "source": [
        "## エンドポイントとデプロイを削除する\n",
        "\n",
        "エンドポイントは常に使用可能であるため、コストを節約するために一時停止することはできません。 不要なコストを避けるには、エンドポイントを削除します。"
      ]
    },
    {
      "cell_type": "code",
      "execution_count": null,
      "metadata": {
        "gather": {
          "logged": 1667395487568
        },
        "jupyter": {
          "outputs_hidden": false,
          "source_hidden": false
        },
        "nteract": {
          "transient": {
            "deleting": false
          }
        },
        "vscode": {
          "languageId": "python"
        }
      },
      "outputs": [],
      "source": [
        "ml_client.online_deployments.begin_create_or_update(blue_deployment).result()"
      ]
    },
    {
      "attachments": {},
      "cell_type": "markdown",
      "metadata": {},
      "source": [
        "The deployment of the model may take 10-15 minutes. While waiting for the model to be deployed, you can learn more about [managed endpoints in this video](https://www.youtube.com/watch?v=SxFGw_OBxNM&ab_channel=MicrosoftDeveloper).\n",
        "\n",
        "<p style=\"color:red;font-size:120%;background-color:yellow;font-weight:bold\"> IMPORTANT! Wait until the deployment is completed before continuing! A green notification should appear in the studio.</p>\n",
        "\n",
        "Since you only have one model deployed to the endpoint, you want this deployment to take 100% of the traffic. If you deploy multiple models to the endpoint, you could use the same approach to distribute traffic across the deployed models."
      ]
    },
    {
      "cell_type": "code",
      "execution_count": null,
      "metadata": {
        "gather": {
          "logged": 1667341237843
        },
        "jupyter": {
          "outputs_hidden": false,
          "source_hidden": false
        },
        "nteract": {
          "transient": {
            "deleting": false
          }
        },
        "vscode": {
          "languageId": "python"
        }
      },
      "outputs": [],
      "source": [
        "# blue deployment takes 100 traffic\n",
        "endpoint.traffic = {\"blue\": 100}\n",
        "ml_client.begin_create_or_update(endpoint).result()"
      ]
    },
    {
      "attachments": {},
      "cell_type": "markdown",
      "metadata": {
        "nteract": {
          "transient": {
            "deleting": false
          }
        }
      },
      "source": [
        "<p style=\"color:red;font-size:120%;background-color:yellow;font-weight:bold\"> IMPORTANT! Wait until the blue deployment is configured before continuing! A green notification should appear in the studio. </p> \n",
        "\n",
        "## Test the deployment\n",
        "\n",
        "Let's test the deployed model by invoking the endpoint. A JSON file with sample data is used as input. The trained model predicts whether a patient has diabetes or not, based on medical data like age, BMI, and the number of pregnancies. A `[0]` indicates a patient doesn't have diabetes. A `[1]` means a patient does have diabetes."
      ]
    },
    {
      "cell_type": "code",
      "execution_count": null,
      "metadata": {
        "gather": {
          "logged": 1667385183402
        },
        "jupyter": {
          "outputs_hidden": false,
          "source_hidden": false
        },
        "nteract": {
          "transient": {
            "deleting": false
          }
        },
        "vscode": {
          "languageId": "python"
        }
      },
      "outputs": [],
      "source": [
        "# test the blue deployment with some sample data\n",
        "response = ml_client.online_endpoints.invoke(\n",
        "    endpoint_name=online_endpoint_name,\n",
        "    deployment_name=\"blue\",\n",
        "    request_file=\"sample-data.json\",\n",
        ")\n",
        "\n",
        "if response[1]=='1':\n",
        "    print(\"Diabetic\")\n",
        "else:\n",
        "    print (\"Not diabetic\")"
      ]
    },
    {
      "cell_type": "markdown",
      "metadata": {},
      "source": [
        "Optionally, you can change the values in the `sample-data.json` file to try and get a different prediction."
      ]
    },
    {
      "cell_type": "markdown",
      "metadata": {
        "nteract": {
          "transient": {
            "deleting": false
          }
        }
      },
      "source": [
        "## List endpoints\n",
        "\n",
        "Although you can view all endpoints in the Studio, you can also list all endpoints using the SDK:"
      ]
    },
    {
      "cell_type": "code",
      "execution_count": null,
      "metadata": {
        "gather": {
          "logged": 1667395563837
        },
        "jupyter": {
          "outputs_hidden": false,
          "source_hidden": false
        },
        "nteract": {
          "transient": {
            "deleting": false
          }
        },
        "vscode": {
          "languageId": "python"
        }
      },
      "outputs": [],
      "source": [
        "endpoints = ml_client.online_endpoints.list()\n",
        "for endp in endpoints:\n",
        "    print(endp.name)"
      ]
    },
    {
      "cell_type": "markdown",
      "metadata": {
        "nteract": {
          "transient": {
            "deleting": false
          }
        }
      },
      "source": [
        "## Get endpoint details\n",
        "\n",
        "If you want more information about a specific endpoint, you can explore the details using the SDK too."
      ]
    },
    {
      "cell_type": "code",
      "execution_count": null,
      "metadata": {
        "gather": {
          "logged": 1667395538913
        },
        "jupyter": {
          "outputs_hidden": false,
          "source_hidden": false
        },
        "nteract": {
          "transient": {
            "deleting": false
          }
        },
        "vscode": {
          "languageId": "python"
        }
      },
      "outputs": [],
      "source": [
        "# Get the details for online endpoint\n",
        "endpoint = ml_client.online_endpoints.get(name=online_endpoint_name)\n",
        "\n",
        "# existing traffic details\n",
        "print(endpoint.traffic)\n",
        "\n",
        "# Get the scoring URI\n",
        "print(endpoint.scoring_uri)"
      ]
    },
    {
      "cell_type": "markdown",
      "metadata": {
        "nteract": {
          "transient": {
            "deleting": false
          }
        }
      },
      "source": [
        "## Delete the endpoint and deployment\n",
        "\n",
        "As an endpoint is always available, it can't be paused to save costs. To avoid unnecessary costs, delete the endpoint."
      ]
    },
    {
      "cell_type": "code",
      "execution_count": null,
      "metadata": {
        "gather": {
          "logged": 1667395549933
        },
        "jupyter": {
          "outputs_hidden": false,
          "source_hidden": false
        },
        "nteract": {
          "transient": {
            "deleting": false
          }
        },
        "vscode": {
          "languageId": "python"
        }
      },
      "outputs": [],
      "source": [
        "ml_client.online_endpoints.begin_delete(name=online_endpoint_name)"
      ]
    }
  ],
  "metadata": {
    "kernel_info": {
      "name": "python38-azureml"
    },
    "kernelspec": {
      "display_name": "Python 3.8 - AzureML",
      "language": "python",
      "name": "python38-azureml"
    },
    "microsoft": {
      "host": {
        "AzureML": {
          "notebookHasBeenCompleted": true
        }
      }
    },
    "nteract": {
      "version": "nteract-front-end@1.0.0"
    },
    "vscode": {
      "interpreter": {
        "hash": "f2b2cd046deda8eabef1e765a11d0ec9aa9bd1d31d56ce79c815a38c323e14ec"
      }
    }
  },
  "nbformat": 4,
  "nbformat_minor": 2
}