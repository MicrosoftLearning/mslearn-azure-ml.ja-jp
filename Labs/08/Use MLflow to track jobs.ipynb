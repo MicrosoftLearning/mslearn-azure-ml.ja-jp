{
  "cells": [
    {
      "cell_type": "markdown",
      "metadata": {},
      "source": [
        "# トレーニング スクリプトをコマンド ジョブとして実行する\n",
        "\n",
        "Azure Machine Learning 用の Python SDK を使って、スクリプトをコマンド ジョブとして送信できます。 ジョブを使用すると、機械学習モデルのトレーニング時に入力パラメーターと出力を簡単に追跡できます。\n",
        "\n",
        "## 開始する前に\n",
        "\n",
        "このノートブックでコードを実行するには、**azureml-ai-ml** パッケージの最新バージョンが必要です。 次のセルを実行して、パッケージがインストールされていることを確認します。\n",
        "\n",
        "> **注**:\n",
        "> **azure-ai-ml** パッケージがインストールされていない場合は、`pip install azure-ai-ml` を実行してインストールします。"
      ]
    },
    {
      "cell_type": "code",
      "execution_count": null,
      "metadata": {
        "vscode": {
          "languageId": "python"
        }
      },
      "outputs": [],
      "source": [
        "## ワークスペースに接続する\n",
        "\n",
        "必要な SDK パッケージがインストールされているため、ワークスペースに接続できます。\n",
        "\n",
        "ワークスペースに接続するには、識別子パラメーター (サブスクリプション ID、リソース グループ名、ワークスペース名) が必要です。 リソース グループ名とワークスペース名は既に入力されています。 コマンドを完了するには、サブスクリプション ID のみが必要です。\n",
        "\n",
        "必要なパラメーターを見つけるには、Studio の右上にあるサブスクリプションとワークスペース名をクリックします。 右側にペインが開きます。\n",
        "\n",
        "<p style=\"color:red;font-size:120%;background-color:yellow;font-weight:bold\"> サブスクリプション ID をコピーし、**YOUR-SUBSCRIPTION-ID** をコピーした値に置き換えます。 </p>"
      ]
    },
    {
      "attachments": {},
      "cell_type": "markdown",
      "metadata": {},
      "source": [
        "## MLflow を使用したカスタム追跡\n",
        "\n",
        "スクリプトをジョブとして実行する場合は、トレーニング スクリプトで MLflow を使用してモデルを追跡できます。 MLflow を使用すると、ジョブ出力と共に保存するカスタム パラメーター、メトリック、または成果物を追跡できます。\n",
        "\n",
        "次のセルを実行して、**src** フォルダーに **train-model-mlflow.py** スクリプトを作成します。 スクリプトは、同じフォルダー内の **diabetes.csv** ファイルを使用して分類モデルをトレーニングします。これは引数として渡されます。 \n",
        "\n",
        "次のコードを確認して、スクリプトにより `mlflow` がインポートされ、ログされることを確認します。\n",
        "\n",
        "- **パラメーター**としての正則化率。 \n",
        "- **メトリック**としての正確性と AUC。\n",
        "- **成果物**としてプロットされた ROC 曲線。"
      ]
    },
    {
      "cell_type": "code",
      "execution_count": null,
      "metadata": {
        "gather": {
          "logged": 1663753569264
        },
        "vscode": {
          "languageId": "python"
        }
      },
      "outputs": [],
      "source": [
        "これで、スクリプトをコマンド ジョブとして送信できます。\n",
        "\n",
        "次のセルを実行してモデルをトレーニングします。 "
      ]
    },
    {
      "cell_type": "code",
      "execution_count": null,
      "metadata": {
        "vscode": {
          "languageId": "python"
        }
      },
      "outputs": [],
      "source": [
        "スタジオで、**diabetes-train-mlflow** ジョブに移動して、実行したコマンド ジョブの概要を確認します。\n",
        "\n",
        "- **[概要]** タブの **[パラメーター]** で、ログされたパラメーター を見つけます。\n",
        "- **[メトリック]** タブで、ログされたメトリックを見つけます。\n",
        "- ログされた成果物を **[イメージ]** タブ (特に画像用) と **[出力 + ログ]** タブ (すべてのファイル) で見つけます。"
      ]
    },
    {
      "cell_type": "markdown",
      "metadata": {},
      "source": [
        "## MLflow を使用した自動ログ記録\n",
        "\n",
        "MLflow では、カスタム ログを使用する代わりに、あらゆるパラメーター、メトリック、成果物を自動的にログすることもできます。 MLflow を使用した自動ログ記録には、コードは 1 行のみです。\n",
        "\n",
        "次のセルを実行して、**src** フォルダーに **train-model-autolog.py** スクリプトを作成します。 スクリプトは、同じフォルダー内の **diabetes.csv** ファイルを使用して分類モデルをトレーニングします。これは引数として渡されます。 \n",
        "\n",
        "次のコードを確認して、スクリプトにより `mlflow` がインポートされ、行で自動ログ記録が有効になっていることを確認します。 \n",
        "\n",
        "`mlflow.autolog()`"
      ]
    },
    {
      "cell_type": "code",
      "execution_count": null,
      "metadata": {
        "vscode": {
          "languageId": "python"
        }
      },
      "outputs": [],
      "source": [
        "これで、スクリプトをコマンド ジョブとして送信できます。\n",
        "\n",
        "次のセルを実行してモデルをトレーニングします。 "
      ]
    },
    {
      "cell_type": "code",
      "execution_count": null,
      "metadata": {
        "vscode": {
          "languageId": "python"
        }
      },
      "outputs": [],
      "source": [
        "スタジオで、**diabetes-train-autolog** ジョブに移動し、実行したコマンド ジョブの概要を確認します。\n",
        "\n",
        "- **[概要]** タブの **[パラメーター]** で、ログされたパラメーター を見つけます。\n",
        "- **[メトリック]** タブで、ログされたメトリックを見つけます。\n",
        "- ログされた成果物を **[イメージ]** タブ (特に画像用) と **[出力 + ログ]** タブ (モデル ファイルを含むすべてのファイル) で見つけます。"
      ]
    },
    {
      "cell_type": "markdown",
      "metadata": {},
      "source": [
        "## MLflow を使用して実験を表示および検索する\n",
        "\n",
        "Azure Machine Learning スタジオは、ジョブの実行を表示し、比較するための使いやすい UI です。 あるいは、MLflow を使って実験ジョブを表示することもできます。 \n",
        "\n",
        "ワークスペース内のジョブを一覧表示するには、次のコマンドを使用して、ワークスペース内の実験を一覧表示します。\n"
      ]
    },
    {
      "cell_type": "code",
      "execution_count": null,
      "metadata": {
        "vscode": {
          "languageId": "python"
        }
      },
      "outputs": [],
      "source": [
        "特定の実験を取得するには、その名前で取得できます。"
      ]
    },
    {
      "cell_type": "markdown",
      "metadata": {},
      "source": [
        "実験名を使用すると、その実験のすべてのジョブを取得できます。"
      ]
    },
    {
      "cell_type": "markdown",
      "metadata": {},
      "source": [
        "ジョブの実行と出力をより簡単に比較するために、結果を並べ替える検索を構成できます。 たとえば、次のセルは結果を `start_time` で並べ替え、最大 `2` 個の結果のみを表示します。 "
      ]
    },
    {
      "cell_type": "code",
      "execution_count": null,
      "metadata": {
        "vscode": {
          "languageId": "python"
        }
      },
      "outputs": [],
      "source": [
        "実行をフィルター処理するクエリを作成することもできます。 フィルター クエリ文字列は、SQL `WHERE` 句の簡略化されたバージョンで記述されます。 \n",
        "\n",
        "フィルター処理には、次の 2 つのクラスの比較子を使用できます。\n",
        "\n",
        "- 数値比較子 (メトリック): =、!=、>、>=、<、<=。\n",
        "- 文字列比較子 (パラメーター、タグ、属性): = と !=。\n",
        "\n",
        "詳細については、[MLflow を使用して実験を追跡する方法](https://learn.microsoft.com/azure/machine-learning/how-to-track-experiments-mlflow)に関するページを参照してください。"
      ]
    },
    {
      "cell_type": "markdown",
      "metadata": {},
      "source": [
        "Now, you can submit the script as a command job.\n",
        "\n",
        "Run the cell below to train the model. "
      ]
    },
    {
      "cell_type": "code",
      "execution_count": null,
      "metadata": {
        "vscode": {
          "languageId": "python"
        }
      },
      "outputs": [],
      "source": [
        "from azure.ai.ml import command\n",
        "\n",
        "# configure job\n",
        "\n",
        "job = command(\n",
        "    code=\"./src\",\n",
        "    command=\"python train-model-autolog.py --training_data diabetes.csv\",\n",
        "    environment=\"AzureML-sklearn-0.24-ubuntu18.04-py37-cpu@latest\",\n",
        "    compute=\"aml-cluster\",\n",
        "    display_name=\"diabetes-train-autolog\",\n",
        "    experiment_name=\"diabetes-training\"\n",
        "    )\n",
        "\n",
        "# submit job\n",
        "returned_job = ml_client.create_or_update(job)\n",
        "aml_url = returned_job.studio_url\n",
        "print(\"Monitor your job at\", aml_url)"
      ]
    },
    {
      "cell_type": "markdown",
      "metadata": {},
      "source": [
        "In the Studio, navigate to the **diabetes-train-autolog** job to explore the overview of the command job you ran:\n",
        "\n",
        "- Find the logged parameters in the **Overview** tab, under **Params**.\n",
        "- Find the logged metrics in the **Metrics** tab.\n",
        "- Find the logged artifacts in the **Images** tab (specifically for images), and in the **Outputs + logs** tab (all files, including the model files)."
      ]
    },
    {
      "cell_type": "markdown",
      "metadata": {},
      "source": [
        "## Use MLflow to view and search for experiments\n",
        "\n",
        "The Azure Machine Learning Studio is an easy-to-use UI to view and compare job runs. Alternatively, you can use MLflow to view experiment jobs. \n",
        "\n",
        "To list the jobs in the workspace, use the following command to list the experiments in the workspace:\n"
      ]
    },
    {
      "cell_type": "code",
      "execution_count": null,
      "metadata": {
        "vscode": {
          "languageId": "python"
        }
      },
      "outputs": [],
      "source": [
        "import mlflow\n",
        "experiments = mlflow.list_experiments()\n",
        "for exp in experiments:\n",
        "    print(exp.name)"
      ]
    },
    {
      "cell_type": "markdown",
      "metadata": {},
      "source": [
        "To retrieve a specific experiment, you can get it by its name:"
      ]
    },
    {
      "cell_type": "code",
      "execution_count": null,
      "metadata": {
        "vscode": {
          "languageId": "python"
        }
      },
      "outputs": [],
      "source": [
        "experiment_name = \"diabetes-training\"\n",
        "exp = mlflow.get_experiment_by_name(experiment_name)\n",
        "print(exp)"
      ]
    },
    {
      "cell_type": "markdown",
      "metadata": {},
      "source": [
        "Using an experiment name, you can retrieve all jobs of that experiment:"
      ]
    },
    {
      "cell_type": "code",
      "execution_count": null,
      "metadata": {
        "vscode": {
          "languageId": "python"
        }
      },
      "outputs": [],
      "source": [
        "mlflow.search_runs(exp.experiment_id)"
      ]
    },
    {
      "cell_type": "markdown",
      "metadata": {},
      "source": [
        "To more easily compare job runs and outputs, you can configure the search to order the results. For example, the following cell orders the results by `start_time`, and only shows a maximum of `2` results: "
      ]
    },
    {
      "cell_type": "code",
      "execution_count": null,
      "metadata": {
        "vscode": {
          "languageId": "python"
        }
      },
      "outputs": [],
      "source": [
        "mlflow.search_runs(exp.experiment_id, order_by=[\"start_time DESC\"], max_results=2)"
      ]
    },
    {
      "cell_type": "markdown",
      "metadata": {},
      "source": [
        "You can even create a query to filter the runs. Filter query strings are written with a simplified version of the SQL `WHERE` clause. \n",
        "\n",
        "To filter, you can use two classes of comparators:\n",
        "\n",
        "- Numeric comparators (metrics): =, !=, >, >=, <, and <=.\n",
        "- String comparators (params, tags, and attributes): = and !=.\n",
        "\n",
        "Learn more about [how to track experiments with MLflow](https://learn.microsoft.com/azure/machine-learning/how-to-track-experiments-mlflow)."
      ]
    },
    {
      "cell_type": "code",
      "execution_count": null,
      "metadata": {
        "vscode": {
          "languageId": "python"
        }
      },
      "outputs": [],
      "source": [
        "query = \"metrics.AUC > 0.8 and tags.model_type = 'LogisticRegression'\"\n",
        "mlflow.search_runs(exp.experiment_id, filter_string=query)"
      ]
    }
  ],
  "metadata": {
    "kernel_info": {
      "name": "python38-azureml"
    },
    "kernelspec": {
      "display_name": "Python 3.8 - AzureML",
      "language": "python",
      "name": "python38-azureml"
    },
    "microsoft": {
      "host": {
        "AzureML": {
          "notebookHasBeenCompleted": true
        }
      }
    },
    "nteract": {
      "version": "nteract-front-end@1.0.0"
    },
    "vscode": {
      "interpreter": {
        "hash": "f2b2cd046deda8eabef1e765a11d0ec9aa9bd1d31d56ce79c815a38c323e14ec"
      }
    }
  },
  "nbformat": 4,
  "nbformat_minor": 2
}